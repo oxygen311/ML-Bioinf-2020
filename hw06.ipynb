{
 "cells": [
  {
   "cell_type": "markdown",
   "metadata": {},
   "source": [
    "# Нейронные сети\n",
    "__Суммарное количество баллов: 10__\n",
    "\n",
    "В этом домашнем задании можно использовать готовые классы библиотек PyTorch, Keras, TensorFlow."
   ]
  },
  {
   "cell_type": "markdown",
   "metadata": {},
   "source": [
    "### Задание 1 (4 балла)\n",
    "\n",
    "Создайте сеть из трех сверточных слоев по 8 сверток 3х3 и двух полносвязных слоев по 64 нейрона. \n",
    "\n",
    "Обучите сеть на датасете mnist с тремя разными функциями активации в слоях (sigmoid, tanh, ReLU)."
   ]
  },
  {
   "cell_type": "code",
   "execution_count": 1,
   "metadata": {
    "pycharm": {
     "is_executing": false
    }
   },
   "outputs": [
    {
     "name": "stdout",
     "output_type": "stream",
     "text": [
      "Importing Jupyter notebook from hw01.ipynb\n"
     ]
    }
   ],
   "source": [
    "import os\n",
    "import torch\n",
    "import numpy as np\n",
    "import seaborn as sns\n",
    "import imageio\n",
    "import matplotlib.pyplot as plt\n",
    "\n",
    "from glob import glob\n",
    "\n",
    "sns.set(style=\"whitegrid\", font=\"serif\", font_scale=1.1)\n",
    "\n",
    "# imports from other HWs\n",
    "import nbimporter\n",
    "\n",
    "from hw01 import train_test_split"
   ]
  },
  {
   "cell_type": "code",
   "execution_count": 2,
   "metadata": {
    "pycharm": {
     "is_executing": false,
     "name": "#%%\n"
    }
   },
   "outputs": [],
   "source": [
    "def read_mnist(path_to_csv):\n",
    "    X = np.loadtxt(path_to_csv, skiprows=1, delimiter=\",\", usecols=range(1, 785))\n",
    "    y = np.loadtxt(path_to_csv, skiprows=1, delimiter=\",\", usecols=0)\n",
    "    return torch.tensor(X).float().reshape(X.shape[0], 28, 28).unsqueeze(1), torch.tensor(y).long()\n",
    "\n",
    "X, y = read_mnist('data/mnist.csv')\n",
    "X_train, y_train, X_test, y_test = train_test_split(X, y, 0.8)"
   ]
  },
  {
   "cell_type": "code",
   "execution_count": 3,
   "metadata": {
    "pycharm": {
     "name": "#%%\n"
    },
    "scrolled": true
   },
   "outputs": [],
   "source": [
    "class SinmpleNet(torch.nn.Module):\n",
    "    def __init__(self, activation):\n",
    "        super(SinmpleNet, self).__init__()\n",
    "        \n",
    "        self.conv1 = torch.nn.Conv2d(in_channels=1, out_channels=8, kernel_size=3, stride=3, padding=2)\n",
    "        self.act1  = activation()\n",
    "       \n",
    "        self.conv2 = torch.nn.Conv2d(in_channels=8, out_channels=1, kernel_size=3, stride=1)\n",
    "        self.act2  = activation()\n",
    "        \n",
    "        self.fc1   = torch.nn.Linear(64, 64)\n",
    "        self.act3  = activation()\n",
    "        \n",
    "        self.fc2   = torch.nn.Linear(64, 10)\n",
    "    \n",
    "    def forward(self, x):\n",
    "        x = self.conv1(x)\n",
    "        x = self.act1(x)\n",
    "        \n",
    "        x = self.conv2(x)\n",
    "        x = self.act2(x)\n",
    "        \n",
    "        x = x.view(x.size(0), x.size(1) * x.size(2) * x.size(3))\n",
    "\n",
    "        x = self.fc1(x)\n",
    "        x = self.act3(x)\n",
    "        x = self.fc2(x)\n",
    "        \n",
    "        return x"
   ]
  },
  {
   "cell_type": "code",
   "execution_count": 4,
   "metadata": {},
   "outputs": [],
   "source": [
    "def train_network(net, batch_size=100, epoch=10):\n",
    "    loss = torch.nn.CrossEntropyLoss()\n",
    "    optimizer = torch.optim.Adam(net.parameters(), lr=1.0e-3)\n",
    "\n",
    "    test_accuracy_history = []\n",
    "    test_loss_history = []\n",
    "\n",
    "    for _ in range(epoch):\n",
    "        order = np.random.permutation(len(X_train))\n",
    "        for start_index in range(0, len(X_train), batch_size):\n",
    "            optimizer.zero_grad()\n",
    "            net.train()\n",
    "\n",
    "            batch_indexes = order[start_index:start_index + batch_size]\n",
    "\n",
    "            X_batch = X_train[batch_indexes]\n",
    "            y_batch = y_train[batch_indexes]\n",
    "\n",
    "            preds = net.forward(X_batch) \n",
    "\n",
    "            loss_value = loss(preds, y_batch)\n",
    "            loss_value.backward()\n",
    "\n",
    "            optimizer.step()\n",
    "\n",
    "        net.eval()\n",
    "        test_preds = net.forward(X_test)\n",
    "\n",
    "        accuracy = (test_preds.argmax(dim=1) == y_test).float().mean()\n",
    "        test_accuracy_history.append(accuracy)\n",
    "        \n",
    "    return test_accuracy_history"
   ]
  },
  {
   "cell_type": "markdown",
   "metadata": {},
   "source": [
    "### Sigmoid"
   ]
  },
  {
   "cell_type": "code",
   "execution_count": 5,
   "metadata": {
    "scrolled": true
   },
   "outputs": [
    {
     "name": "stdout",
     "output_type": "stream",
     "text": [
      "Accurancy on test at last epoch: tensor(0.9235)\n"
     ]
    },
    {
     "data": {
      "text/plain": [
       "[<matplotlib.lines.Line2D at 0x1a2de5ff10>]"
      ]
     },
     "execution_count": 5,
     "metadata": {},
     "output_type": "execute_result"
    },
    {
     "data": {
      "image/png": "[encoded data removed]",
      "text/plain": [
       "<Figure size 432x288 with 1 Axes>"
      ]
     },
     "metadata": {
      "needs_background": "light"
     },
     "output_type": "display_data"
    }
   ],
   "source": [
    "simple_net = SinmpleNet(torch.nn.Sigmoid)\n",
    "test_accuracy_history = train_network(simple_net, epoch=100)\n",
    "\n",
    "print('Accurancy on test at last epoch:', test_accuracy_history[-1])\n",
    "plt.title('Accurancy on test')\n",
    "plt.plot(test_accuracy_history)"
   ]
  },
  {
   "cell_type": "markdown",
   "metadata": {},
   "source": [
    "### Tanh"
   ]
  },
  {
   "cell_type": "code",
   "execution_count": 6,
   "metadata": {},
   "outputs": [
    {
     "name": "stdout",
     "output_type": "stream",
     "text": [
      "Accurancy on test at last epoch: tensor(0.9390)\n"
     ]
    },
    {
     "data": {
      "text/plain": [
       "[<matplotlib.lines.Line2D at 0x1a3a61ff50>]"
      ]
     },
     "execution_count": 6,
     "metadata": {},
     "output_type": "execute_result"
    },
    {
     "data": {
      "image/png": "[encoded data removed]",
      "text/plain": [
       "<Figure size 432x288 with 1 Axes>"
      ]
     },
     "metadata": {
      "needs_background": "light"
     },
     "output_type": "display_data"
    }
   ],
   "source": [
    "simple_net = SinmpleNet(torch.nn.Tanh)\n",
    "test_accuracy_history = train_network(simple_net, epoch=100)\n",
    "\n",
    "print('Accurancy on test at last epoch:', test_accuracy_history[-1])\n",
    "plt.title('Accurancy on test')\n",
    "plt.plot(test_accuracy_history)"
   ]
  },
  {
   "cell_type": "markdown",
   "metadata": {},
   "source": [
    "### ReLU"
   ]
  },
  {
   "cell_type": "code",
   "execution_count": 7,
   "metadata": {},
   "outputs": [
    {
     "name": "stdout",
     "output_type": "stream",
     "text": [
      "Accurancy on test at last epoch: tensor(0.9540)\n"
     ]
    },
    {
     "data": {
      "text/plain": [
       "[<matplotlib.lines.Line2D at 0x1a3aab63d0>]"
      ]
     },
     "execution_count": 7,
     "metadata": {},
     "output_type": "execute_result"
    },
    {
     "data": {
      "image/png": "[encoded data removed]",
      "text/plain": [
       "<Figure size 432x288 with 1 Axes>"
      ]
     },
     "metadata": {
      "needs_background": "light"
     },
     "output_type": "display_data"
    }
   ],
   "source": [
    "simple_net = SinmpleNet(torch.nn.ReLU)\n",
    "test_accuracy_history = train_network(simple_net, epoch=100)\n",
    "\n",
    "print('Accurancy on test at last epoch:', test_accuracy_history[-1])\n",
    "plt.title('Accurancy on test')\n",
    "plt.plot(test_accuracy_history)"
   ]
  },
  {
   "cell_type": "markdown",
   "metadata": {},
   "source": [
    "### Задание 2 (6 баллов)\n",
    "\n",
    "Достигните точности 87% на test датасете notMNIST.\n",
    "\n",
    "Архитектура сети может быть любая. Можно использовать Data Augmentation."
   ]
  },
  {
   "cell_type": "code",
   "execution_count": 8,
   "metadata": {},
   "outputs": [],
   "source": [
    "def load_not_mnist(folder_path):\n",
    "    labels = next(os.walk(folder_path))[1]\n",
    "    X, y = [], []\n",
    "    for label_i, label in enumerate(labels):\n",
    "        for image_path in glob(folder_path + label + '/*.png'):\n",
    "            image = imageio.imread(image_path)\n",
    "            \n",
    "            X.append(image)\n",
    "            y.append(label_i)\n",
    "    return torch.tensor(np.array(X)).float().unsqueeze(1), torch.tensor(np.array(y)).long()\n",
    "    \n",
    "X, y = load_not_mnist('data/notMNIST_small/')\n",
    "X_train, y_train, X_test, y_test = train_test_split(X, y, 0.8)"
   ]
  },
  {
   "cell_type": "code",
   "execution_count": 9,
   "metadata": {},
   "outputs": [],
   "source": [
    "class ComplexNet(torch.nn.Module):\n",
    "    def __init__(self):\n",
    "        super(ComplexNet, self).__init__()\n",
    "        \n",
    "        self.batch_norm0 = torch.nn.BatchNorm2d(1)\n",
    "\n",
    "        self.conv1 = torch.nn.Conv2d(1, 16, 3, padding=2)\n",
    "        self.act1  = torch.nn.ReLU()\n",
    "        self.batch_norm1 = torch.nn.BatchNorm2d(16)\n",
    "        self.do1 = torch.nn.Dropout2d(0.15)\n",
    "        self.pool1 = torch.nn.MaxPool2d(2, 2)\n",
    "        \n",
    "        self.conv2 = torch.nn.Conv2d(16, 32, 3, padding=1)\n",
    "        self.act2  = torch.nn.ReLU()\n",
    "        self.batch_norm2 = torch.nn.BatchNorm2d(32)\n",
    "        self.do2 = torch.nn.Dropout2d(0.15)\n",
    "        self.pool2 = torch.nn.MaxPool2d(2, 2)\n",
    "        \n",
    "        self.conv3 = torch.nn.Conv2d(32, 64, 3, padding=1)\n",
    "        self.act3  = torch.nn.ReLU()\n",
    "        self.batch_norm3 = torch.nn.BatchNorm2d(64)\n",
    "        self.do3 = torch.nn.Dropout2d(0.15)\n",
    "\n",
    "        self.fc1   = torch.nn.Linear(7 * 7 * 64, 256)\n",
    "        self.act4  = torch.nn.Tanh()\n",
    "        self.batch_norm4 = torch.nn.BatchNorm1d(256)\n",
    "        self.do4 = torch.nn.Dropout2d(0.15)\n",
    "        \n",
    "        self.fc2   = torch.nn.Linear(256, 64)\n",
    "        self.act5  = torch.nn.Tanh()\n",
    "        self.batch_norm5 = torch.nn.BatchNorm1d(64)\n",
    "        self.do5 = torch.nn.Dropout2d(0.15)\n",
    "        \n",
    "        self.fc3   = torch.nn.Linear(64, 10)\n",
    "    \n",
    "    def forward(self, x):\n",
    "        x = self.batch_norm0(x)\n",
    "        \n",
    "        x = self.conv1(x)\n",
    "        x = self.act1(x)\n",
    "        x = self.batch_norm1(x)\n",
    "        x = self.do1(x)\n",
    "        x = self.pool1(x)\n",
    "        \n",
    "        x = self.conv2(x)\n",
    "        x = self.act2(x)\n",
    "        x = self.batch_norm2(x)\n",
    "        x = self.do2(x)\n",
    "        x = self.pool2(x)\n",
    "        \n",
    "        x = self.conv3(x)\n",
    "        x = self.act3(x)\n",
    "        x = self.batch_norm3(x)\n",
    "        x = self.do3(x)\n",
    "        \n",
    "        x = x.view(x.size(0), x.size(1) * x.size(2) * x.size(3))\n",
    "        x = self.fc1(x)\n",
    "        x = self.act4(x)\n",
    "        x = self.batch_norm4(x)\n",
    "        x = self.do4(x)\n",
    "        x = self.fc2(x)\n",
    "        x = self.act5(x)\n",
    "        x = self.batch_norm5(x)\n",
    "        x = self.do5(x)\n",
    "        x = self.fc3(x)\n",
    "        \n",
    "        return x"
   ]
  },
  {
   "cell_type": "code",
   "execution_count": 11,
   "metadata": {},
   "outputs": [
    {
     "name": "stdout",
     "output_type": "stream",
     "text": [
      "Accurancy on test at last epoch: tensor(0.9514)\n"
     ]
    },
    {
     "data": {
      "text/plain": [
       "[<matplotlib.lines.Line2D at 0x1a3189f290>]"
      ]
     },
     "execution_count": 11,
     "metadata": {},
     "output_type": "execute_result"
    },
    {
     "data": {
      "image/png": "[encoded data removed]",
      "text/plain": [
       "<Figure size 432x288 with 1 Axes>"
      ]
     },
     "metadata": {
      "needs_background": "light"
     },
     "output_type": "display_data"
    }
   ],
   "source": [
    "test_accuracy_history = train_network(ComplexNet())\n",
    "\n",
    "print('Accurancy on test at last epoch:', test_accuracy_history[-1])\n",
    "plt.title('Accurancy on test')\n",
    "plt.plot(test_accuracy_history)"
   ]
  },
  {
   "cell_type": "code",
   "execution_count": null,
   "metadata": {},
   "outputs": [],
   "source": []
  }
 ],
 "metadata": {
  "kernelspec": {
   "display_name": "Python 3",
   "language": "python",
   "name": "python3"
  },
  "language_info": {
   "codemirror_mode": {
    "name": "ipython",
    "version": 3
   },
   "file_extension": ".py",
   "mimetype": "text/x-python",
   "name": "python",
   "nbconvert_exporter": "python",
   "pygments_lexer": "ipython3",
   "version": "3.7.4"
  },
  "pycharm": {
   "stem_cell": {
    "cell_type": "raw",
    "metadata": {
     "collapsed": false
    },
    "source": []
   }
  }
 },
 "nbformat": 4,
 "nbformat_minor": 2
}
