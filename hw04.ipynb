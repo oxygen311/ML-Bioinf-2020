{
 "cells": [
  {
   "cell_type": "markdown",
   "metadata": {},
   "source": [
    "# Случайные леса\n",
    "__Суммарное количество баллов: 10__\n",
    "\n",
    "В этом задании вам предстоит реализовать ансамбль деревьев решений, известный как случайный лес, применить его к публичным данным и сравнить его эффективность с ансамблем, предоставляемым библиотекой CatBoost."
   ]
  },
  {
   "cell_type": "code",
   "execution_count": 1,
   "metadata": {
    "pycharm": {
     "is_executing": false
    }
   },
   "outputs": [
    {
     "name": "stdout",
     "text": [
      "Importing Jupyter notebook from hw01.ipynb\nImporting Jupyter notebook from hw03.ipynb\n"
     ],
     "output_type": "stream"
    }
   ],
   "source": [
    "from sklearn.model_selection import train_test_split\n",
    "import numpy as np\n",
    "import pandas\n",
    "import random\n",
    "import matplotlib.pyplot as plt\n",
    "import matplotlib\n",
    "import copy\n",
    "\n",
    "from catboost import CatBoostClassifier\n",
    "from sklearn.tree import DecisionTreeClassifier\n",
    "from sklearn.model_selection import KFold\n",
    "from sklearn.metrics import roc_auc_score, accuracy_score\n",
    "\n",
    "# imports from other HWs\n",
    "import nbimporter\n",
    "\n",
    "from hw01 import read_cancer_dataset, read_spam_dataset, train_test_split\n",
    "from hw03 import plot_roc_curve"
   ]
  },
  {
   "cell_type": "markdown",
   "metadata": {},
   "source": [
    "### Задание 1 (3 балла)\n",
    "Реализуем сам Random Forest. Идея очень простая: строим `n` деревьев, а затем берем модальное предсказание.\n",
    "\n",
    "#### Параметры конструктора\n",
    "`n_estimators` - количество используемых для предсказания деревьев.\n",
    "\n",
    "Остальное - параметры деревьев.\n",
    "\n",
    "#### Методы\n",
    "`fit(X, y)` - строит `n_estimators` деревьев по выборке `X`.\n",
    "\n",
    "`predict(X)` - для каждого элемента выборки `X` возвращает самый частый класс, который предсказывают для него деревья."
   ]
  },
  {
   "cell_type": "code",
   "execution_count": 2,
   "metadata": {
    "pycharm": {
     "is_executing": false
    }
   },
   "outputs": [],
   "source": [
    "class RandomForestClassifier:\n",
    "    def __init__(self, criterion=\"gini\", max_depth=None, min_samples_leaf=1, max_features=\"auto\", n_estimators=10):\n",
    "        self.trees = [DecisionTreeClassifier(criterion, \n",
    "                                             max_depth=max_depth, \n",
    "                                             min_samples_leaf=min_samples_leaf, \n",
    "                                             max_features=max_features) \n",
    "                      for _ in range(n_estimators)]\n",
    "    \n",
    "    def fit(self, X, y):\n",
    "        for tree in self.trees:\n",
    "            tree.fit(X, y, np.random.poisson(size=len(y)))\n",
    "    \n",
    "    def predict_proba(self, X):\n",
    "        return np.mean([tree.predict_proba(X) for tree in self.trees], axis=0)\n",
    "    \n",
    "    def predict(self, X):\n",
    "        return self.predict_proba(X).argmax(axis=1).astype(int)"
   ]
  },
  {
   "cell_type": "markdown",
   "metadata": {},
   "source": [
    "### Задание 3 (3 балла)\n",
    "Оптимизируйте по AUC на кроссвалидации (размер валидационной выборки - 20%) параметры своей реализации Random Forest: \n",
    "\n",
    "максимальную глубину деревьев из [2, 3, 5, 7, 10], количество деревьев из [5, 10, 20, 30, 50, 100]. \n",
    "\n",
    "Постройте ROC кривую (и выведите AUC и accuracy) для лучшего варианта.\n",
    "\n",
    "Подсказка: можно построить сразу 100 деревьев глубины 10, а потом убирать деревья и\n",
    "глубину."
   ]
  },
  {
   "cell_type": "code",
   "execution_count": 3,
   "outputs": [],
   "source": [
    "def selection_of_hyperparameters(X, y):\n",
    "    kf = KFold(n_splits=5, shuffle=True)\n",
    "    \n",
    "    best_mean_roc_auc = 0\n",
    "    best_param = None\n",
    "    \n",
    "    for max_depth in [2, 3, 5, 7, 10]:\n",
    "        for n_estimators in [5, 10, 20, 30, 50, 100]:\n",
    "            roc_auc_scores = []\n",
    "            rfc =  RandomForestClassifier(max_depth=max_depth, n_estimators=n_estimators)\n",
    "            for train_index, test_index in kf.split(X):\n",
    "                X_train, X_test = X[train_index], X[test_index]\n",
    "                y_train, y_test = y[train_index], y[test_index]\n",
    "                \n",
    "                rfc.fit(X_train, y_train)\n",
    "                roc_auc_scores.append(roc_auc_score(y_test, rfc.predict_proba(X_test)[:, 1]))\n",
    "            if np.mean(roc_auc_scores) > best_mean_roc_auc:\n",
    "                best_mean_roc_auc = np.mean(roc_auc_scores)\n",
    "                best_param = dict(n_estimators=n_estimators, max_depth=max_depth)\n",
    "                \n",
    "    return best_param"
   ],
   "metadata": {
    "collapsed": false,
    "pycharm": {
     "name": "#%%\n",
     "is_executing": false
    }
   }
  },
  {
   "cell_type": "markdown",
   "metadata": {},
   "source": [
    "### Задание 4 (3 балла)\n",
    "Часто хочется понимать, насколько большую роль играет тот или иной признак для предсказания класса объекта. \n",
    "Есть различные способы посчитать его важность. \n",
    "Один из простых способов сделать это для Random Forest выглядит так:\n",
    "1. Посчитать out-of-bag ошибку предсказания `err_oob` (https://en.wikipedia.org/wiki/Out-of-bag_error)\n",
    "2. Перемешать значения признака `j` у объектов выборки (у каждого из объектов изменится значение признака `j` на какой-то другой)\n",
    "3. Посчитать out-of-bag ошибку (`err_oob_j`) еще раз.\n",
    "4. Оценкой важности признака `j` для одного дерева будет разность `err_oob_j - err_oob`, важность для всего леса считается как среднее значение важности по деревьям.\n",
    "\n",
    "Реализуйте функцию `feature_importance`, которая принимает на вход Random Forest и возвращает массив, в котором содержится важность для каждого признака."
   ]
  },
  {
   "cell_type": "code",
   "execution_count": 4,
   "metadata": {
    "pycharm": {
     "is_executing": false
    }
   },
   "outputs": [],
   "source": [
    "def feature_importance(rfc, X, y):\n",
    "    before = np.mean(rfc.predict(X) == y)\n",
    "    result = np.zeros(X.shape[1])\n",
    "    for i in range(X.shape[1]):\n",
    "        X_tmp = np.copy(X)\n",
    "        np.random.shuffle(X_tmp[:, i])\n",
    "        result[i] = before - np.mean(rfc.predict(X_tmp) == y)\n",
    "    return result / np.sum(result)\n",
    "\n",
    "def most_important_features(importance, names, k=20):\n",
    "    # Выводит названия k самых важных признаков\n",
    "    idicies = np.argsort(importance)[::-1][:k]\n",
    "    return np.array(names)[idicies]"
   ]
  },
  {
   "cell_type": "markdown",
   "metadata": {},
   "source": [
    "Протестируйте решение на простом синтетическом наборе данных. \n",
    "В результате должна получиться точность `1.0`, наибольшее значение важности должно быть у признака с индексом `4`, \n",
    "признаки с индексами `2` и `3`  должны быть одинаково важны, а остальные признаки - не важны совсем."
   ]
  },
  {
   "cell_type": "code",
   "execution_count": 5,
   "metadata": {
    "pycharm": {
     "is_executing": false
    }
   },
   "outputs": [
    {
     "name": "stdout",
     "text": [
      "Accuracy: 1.0\nImportance: [0.         0.         0.28588957 0.2809816  0.43312883 0.        ]\n"
     ],
     "output_type": "stream"
    }
   ],
   "source": [
    "def synthetic_dataset(size):\n",
    "    X = [(np.random.randint(0, 2), np.random.randint(0, 2), i % 6 == 3, \n",
    "          i % 6 == 0, i % 3 == 2, np.random.randint(0, 2)) for i in range(size)]\n",
    "    y = [i % 3 for i in range(size)]\n",
    "    return np.array(X), np.array(y)\n",
    "X, y = synthetic_dataset(1000)\n",
    "rfc = RandomForestClassifier(criterion=\"entropy\", max_depth=100)\n",
    "rfc.fit(X, y)\n",
    "\n",
    "print(\"Accuracy:\", np.mean(rfc.predict(X) == y))\n",
    "print(\"Importance:\", feature_importance(rfc, X, y))"
   ]
  },
  {
   "cell_type": "markdown",
   "metadata": {},
   "source": [
    "Проверьте, какие признаки важны для датасетов cancer и spam?"
   ]
  },
  {
   "cell_type": "code",
   "execution_count": 6,
   "metadata": {
    "pycharm": {
     "is_executing": false
    }
   },
   "outputs": [],
   "source": [
    "def cast_to_dict(probas):\n",
    "    return dict((i, p) for i, p in enumerate(probas))\n",
    "\n",
    "def get_features_names_from_file(file):\n",
    "    with open(file) as f:\n",
    "        l = f.readline()\n",
    "    return l.split(',')[:-1]"
   ]
  },
  {
   "cell_type": "markdown",
   "source": [
    "## Cancer dataset"
   ],
   "metadata": {
    "collapsed": false,
    "pycharm": {
     "name": "#%% md\n"
    }
   }
  },
  {
   "cell_type": "code",
   "execution_count": 7,
   "outputs": [
    {
     "data": {
      "text/plain": "<Figure size 504x504 with 1 Axes>",
      "image/png": "[encoded data removed]"
     },
     "metadata": {
      "needs_background": "light"
     },
     "output_type": "display_data"
    },
    {
     "name": "stdout",
     "text": [
      "Most important features: ['7' '20' '21' '27' '22' '4' '13' '15' '5' '17' '8' '19' '10' '23' '3' '1'\n '6' '2' '29' '14']\n"
     ],
     "output_type": "stream"
    }
   ],
   "source": [
    "cancer_file = 'data/cancer.csv'\n",
    "X, y = read_cancer_dataset(cancer_file)\n",
    "X_train, y_train, X_test, y_test = train_test_split(X, y, 0.9)\n",
    "best_params = selection_of_hyperparameters(X_train, y_train)\n",
    "\n",
    "rfc = RandomForestClassifier(**best_params)\n",
    "rfc.fit(X_train, y_train)\n",
    "probas = rfc.predict_proba(X_test)\n",
    "plot_roc_curve(y_test, np.apply_along_axis(cast_to_dict, 1, probas))\n",
    "\n",
    "importances = feature_importance(rfc, X, y)\n",
    "names = get_features_names_from_file(cancer_file)\n",
    "print('Most important features:', most_important_features(importances, names))"
   ],
   "metadata": {
    "collapsed": false,
    "pycharm": {
     "name": "#%%\n",
     "is_executing": false
    }
   }
  },
  {
   "cell_type": "markdown",
   "source": [
    "## Spam dataset\n",
    "\n"
   ],
   "metadata": {
    "collapsed": false
   }
  },
  {
   "cell_type": "code",
   "execution_count": 8,
   "outputs": [
    {
     "data": {
      "text/plain": "<Figure size 504x504 with 1 Axes>",
      "image/png": "[encoded data removed]"
     },
     "metadata": {
      "needs_background": "light"
     },
     "output_type": "display_data"
    },
    {
     "name": "stdout",
     "text": [
      "Most important features: ['char_freq_!' 'word_freq_remove' 'word_freq_free' 'char_freq_$'\n 'word_freq_george' 'word_freq_hp' 'capital_run_length_average'\n 'word_freq_your' 'word_freq_our' 'word_freq_you' 'word_freq_1999'\n 'word_freq_edu' 'word_freq_money' 'capital_run_length_longest'\n 'word_freq_business' 'word_freq_will' 'word_freq_all' 'char_freq_('\n 'word_freq_hpl' 'word_freq_internet']\n"
     ],
     "output_type": "stream"
    }
   ],
   "source": [
    "spam_file = 'data/spam.csv'\n",
    "X, y = read_spam_dataset(spam_file)\n",
    "X_train, y_train, X_test, y_test = train_test_split(X, y, 0.9)\n",
    "best_params = selection_of_hyperparameters(X_train, y_train)\n",
    "\n",
    "rfc = RandomForestClassifier(**best_params)\n",
    "rfc.fit(X_train, y_train)\n",
    "probas = rfc.predict_proba(X_test)\n",
    "plot_roc_curve(y_test, np.apply_along_axis(cast_to_dict, 1, probas))\n",
    "\n",
    "importances = feature_importance(rfc, X, y)\n",
    "names = get_features_names_from_file(spam_file)\n",
    "print('Most important features:', most_important_features(importances, names))"
   ],
   "metadata": {
    "collapsed": false,
    "pycharm": {
     "name": "#%%\n",
     "is_executing": false
    }
   }
  },
  {
   "cell_type": "markdown",
   "metadata": {},
   "source": [
    "### Задание 5 (1 балл)\n",
    "В качестве аьтернативы попробуем CatBoost. \n",
    "\n",
    "Туториалы можно найти, например, [здесь](https://catboost.ai/docs/) и [здесь](https://github.com/catboost/tutorials/blob/master/python_tutorial.ipynb).\n",
    "\n",
    "Также, как и реализованный ними RandomForest, примените его для наших датасетов.\n"
   ]
  },
  {
   "cell_type": "markdown",
   "source": [
    "## Cancer dataset"
   ],
   "metadata": {
    "collapsed": false
   }
  },
  {
   "cell_type": "code",
   "execution_count": 9,
   "outputs": [
    {
     "data": {
      "text/plain": "<Figure size 504x504 with 1 Axes>",
      "image/png": "[encoded data removed]"
     },
     "metadata": {
      "needs_background": "light"
     },
     "output_type": "display_data"
    }
   ],
   "source": [
    "cancer_file = 'data/cancer.csv'\n",
    "X, y = read_cancer_dataset(cancer_file)\n",
    "X_train, y_train, X_test, y_test = train_test_split(X, y, 0.9)\n",
    "\n",
    "cls = CatBoostClassifier(silent=True)\n",
    "cls.fit(X_train, y_train)\n",
    "probas = cls.predict_proba(X_test)\n",
    "plot_roc_curve(y_test, np.apply_along_axis(cast_to_dict, 1, probas))"
   ],
   "metadata": {
    "collapsed": false,
    "pycharm": {
     "name": "#%%\n",
     "is_executing": false
    }
   }
  },
  {
   "cell_type": "markdown",
   "source": [
    "## Spam dataset\n"
   ],
   "metadata": {
    "collapsed": false
   }
  },
  {
   "cell_type": "code",
   "execution_count": 10,
   "outputs": [
    {
     "data": {
      "text/plain": "<Figure size 504x504 with 1 Axes>",
      "image/png": "[encoded data removed]"
     },
     "metadata": {
      "needs_background": "light"
     },
     "output_type": "display_data"
    }
   ],
   "source": [
    "spam_file = 'data/spam.csv'\n",
    "X, y = read_spam_dataset(spam_file)\n",
    "X_train, y_train, X_test, y_test = train_test_split(X, y, 0.9)\n",
    "\n",
    "cls = CatBoostClassifier(silent=True)\n",
    "cls.fit(X_train, y_train)\n",
    "\n",
    "probas = cls.predict_proba(X_test)\n",
    "plot_roc_curve(y_test, np.apply_along_axis(cast_to_dict, 1, probas))"
   ],
   "metadata": {
    "collapsed": false,
    "pycharm": {
     "name": "#%%\n",
     "is_executing": false
    }
   }
  }
 ],
 "metadata": {
  "kernelspec": {
   "name": "python3",
   "language": "python",
   "display_name": "Python 3"
  },
  "language_info": {
   "codemirror_mode": {
    "name": "ipython",
    "version": 2
   },
   "file_extension": ".py",
   "mimetype": "text/x-python",
   "name": "python",
   "nbconvert_exporter": "python",
   "pygments_lexer": "ipython2",
   "version": "2.7.16"
  },
  "pycharm": {
   "stem_cell": {
    "cell_type": "raw",
    "source": [],
    "metadata": {
     "collapsed": false
    }
   }
  }
 },
 "nbformat": 4,
 "nbformat_minor": 2
}